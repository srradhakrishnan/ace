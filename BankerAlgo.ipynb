{
  "nbformat": 4,
  "nbformat_minor": 0,
  "metadata": {
    "colab": {
      "name": "BankerAlgo",
      "provenance": [],
      "collapsed_sections": [],
      "authorship_tag": "ABX9TyMdx5fK/j++Iw7S35mJVegJ",
      "include_colab_link": true
    },
    "kernelspec": {
      "name": "python3",
      "display_name": "Python 3"
    }
  },
  "cells": [
    {
      "cell_type": "markdown",
      "metadata": {
        "id": "view-in-github",
        "colab_type": "text"
      },
      "source": [
        "<a href=\"https://colab.research.google.com/github/srradhakrishnan/ace/blob/master/BankerAlgo.ipynb\" target=\"_parent\"><img src=\"https://colab.research.google.com/assets/colab-badge.svg\" alt=\"Open In Colab\"/></a>"
      ]
    },
    {
      "cell_type": "code",
      "metadata": {
        "id": "VZRs5K6q9eXQ",
        "colab_type": "code",
        "colab": {
          "base_uri": "https://localhost:8080/",
          "height": 390
        },
        "outputId": "b4b64591-a48a-45d9-d614-8f81324ef082"
      },
      "source": [
        "def main():\n",
        "    processes = 5\n",
        "    resources = 3\n",
        "    max_resources = [8,9,6]\n",
        "    #Allocation\n",
        "    currently_allocated = [[1,4,1],\n",
        "                           [0,1,0],\n",
        "                           [1,1,1],\n",
        "                           [3,2,3],\n",
        "                           [1,1,1]]\n",
        "\n",
        "    #Request\n",
        "    max_need = [[5,6,2],\n",
        "                [2,1,0],\n",
        "                [5,6,1],\n",
        "                [9,9,6],\n",
        "                [3,2,1]\n",
        "                ]  \n",
        "    need_matr=[[None for x in range(resources)] for y in range(processes)] \n",
        "    for i in range(processes):\n",
        "       for j in range(resources):\n",
        "           need_matr[i][j]=max_need[i][j]-currently_allocated[i][j]       \n",
        "    \n",
        "    print(need_matr)\n",
        "    allocated = [0] * resources\n",
        "    for i in range(processes):\n",
        "        for j in range(resources):\n",
        "            allocated[j] += currently_allocated[i][j]\n",
        "    print(f\"\\ntotal allocated resources : {allocated}\")\n",
        "\n",
        "    available = [max_resources[i] - allocated[i] for i in range(resources)]\n",
        "    print(f\"total available resources : {available}\\n\")\n",
        "\n",
        "    running = [True] * processes\n",
        "    count = processes\n",
        "    while count != 0:\n",
        "        safe = False\n",
        "        for i in range(processes):\n",
        "            if running[i]:\n",
        "                executing = True\n",
        "                for j in range(resources):\n",
        "                    if max_need[i][j] - currently_allocated[i][j] > available[j]:\n",
        "                      print(f\"process {i} is not executing and is not in safe state, as max_need=\",max_need[i][j],\n",
        "                            '-currently=',currently_allocated[i][j], 'is greater than available: ',available[j] )\n",
        "                      executing = False\n",
        "                      break\n",
        "                if executing:\n",
        "                    print(f\"process {i} is executing\")\n",
        "                    running[i] = False\n",
        "                    count -= 1\n",
        "                    safe = True\n",
        "                    for j in range(resources):\n",
        "                        available[j] += currently_allocated[i][j]\n",
        "                    break\n",
        "        if not safe:\n",
        "            print(\"the processes are in an unsafe state.\")\n",
        "            break\n",
        "\n",
        "        print(f\"the process is in a safe state.\\navailable resources : {available}\\n\")\n",
        "\n",
        "\n",
        "if __name__ == '__main__':\n",
        "    main()\n"
      ],
      "execution_count": null,
      "outputs": [
        {
          "output_type": "stream",
          "text": [
            "[[4, 2, 1], [2, 0, 0], [4, 5, 0], [6, 7, 3], [2, 1, 0]]\n",
            "\n",
            "total allocated resources : [6, 9, 6]\n",
            "total available resources : [2, 0, 0]\n",
            "\n",
            "process 0 is not executing and is not in safe state, as max_need= 5 -currently= 1 is greater than available:  2\n",
            "process 1 is executing\n",
            "the process is in a safe state.\n",
            "available resources : [2, 1, 0]\n",
            "\n",
            "process 0 is not executing and is not in safe state, as max_need= 5 -currently= 1 is greater than available:  2\n",
            "process 2 is not executing and is not in safe state, as max_need= 5 -currently= 1 is greater than available:  2\n",
            "process 3 is not executing and is not in safe state, as max_need= 9 -currently= 3 is greater than available:  2\n",
            "process 4 is executing\n",
            "the process is in a safe state.\n",
            "available resources : [3, 2, 1]\n",
            "\n",
            "process 0 is not executing and is not in safe state, as max_need= 5 -currently= 1 is greater than available:  3\n",
            "process 2 is not executing and is not in safe state, as max_need= 5 -currently= 1 is greater than available:  3\n",
            "process 3 is not executing and is not in safe state, as max_need= 9 -currently= 3 is greater than available:  3\n",
            "the processes are in an unsafe state.\n"
          ],
          "name": "stdout"
        }
      ]
    },
    {
      "cell_type": "code",
      "metadata": {
        "id": "4BMKvsZ6FhsJ",
        "colab_type": "code",
        "colab": {}
      },
      "source": [
        ""
      ],
      "execution_count": null,
      "outputs": []
    },
    {
      "cell_type": "markdown",
      "metadata": {
        "id": "KLMenKPcFoDf",
        "colab_type": "text"
      },
      "source": [
        "# New Section"
      ]
    }
  ]
}